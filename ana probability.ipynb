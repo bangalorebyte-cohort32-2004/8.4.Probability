{
 "cells": [
  {
   "cell_type": "code",
   "execution_count": 24,
   "metadata": {},
   "outputs": [
    {
     "name": "stdout",
     "output_type": "stream",
     "text": [
      "0.05\n",
      "0.5\n",
      "0.07692307692307693\n",
      "0.25806451612903225\n",
      "0.5\n",
      "0.2222222222222222\n",
      "0.7\n"
     ]
    }
   ],
   "source": [
    "#Question A\n",
    "\n",
    "event = [20]\n",
    "\n",
    "def probability(sample_size, event=event):\n",
    "    if isinstance(event, (list,tuple)):\n",
    "        count = len(event)\n",
    "    else:\n",
    "        count = 1\n",
    "    return count/sample_size\n",
    "p = probability \n",
    "\n",
    "#Question A\n",
    "print(p(20,20))\n",
    "#Question B\n",
    "print(p(10, [2,4,6,8,10]))\n",
    "#Question C\n",
    "print(p(52, ['AC', 'AS', 'AD', 'AH']))\n",
    "#Question A\n",
    "print(p(31,[3,4,10,11,17,18,24,25]))\n",
    "#Question E \n",
    "print(p(10, [2,4,6,8,10]))\n",
    "#Question F\n",
    "print(p(54, ['JC', 'JS', 'JD', 'JH','QC', 'QS', 'QD', 'QH', 'KC', 'KS', 'KD', 'KH']))\n",
    "# Practice Question\n",
    "print(p(10, [6, 7, 8, 9, 10]) + p(10, [2, 4, 6, 8, 10]) - p(10, [6, 8, 10]))"
   ]
  },
  {
   "cell_type": "code",
   "execution_count": 23,
   "metadata": {},
   "outputs": [
    {
     "name": "stdout",
     "output_type": "stream",
     "text": [
      "0.6923076923076923\n",
      "0.4807692307692308\n",
      "0.8461538461538461\n"
     ]
    }
   ],
   "source": [
    "#Venn Diagram Questions\n",
    "\n",
    "def probability(sample_size, event=None, event_size=None):\n",
    "    if isinstance(event, (list, tuple)):\n",
    "        count = len(event)\n",
    "    elif isinstance(event_size, int):\n",
    "        count = event_size\n",
    "    else:\n",
    "        count = 1\n",
    "    return count / sample_size\n",
    "\n",
    "p = probability\n",
    "\n",
    "#Question A\n",
    "print(p(52, event_size = 26) + p(52, event_size = 20) - p(52, event_size = 10))\n",
    "#Question B \n",
    "print(p(52, event_size = 13) + p(52, event_size = 16) - p(52, event_size = 4))\n",
    "#Question C\n",
    "print(p(52, event_size = 26) + p(52, event_size = 36) - p(52, event_size = 18))"
   ]
  },
  {
   "cell_type": "code",
   "execution_count": 28,
   "metadata": {},
   "outputs": [
    {
     "name": "stdout",
     "output_type": "stream",
     "text": [
      "1.0\n",
      "1.0\n"
     ]
    }
   ],
   "source": [
    "#Conditional Probability Question\n",
    "\n",
    "def probability(sample_size, event=None, event_size=None):\n",
    "    if isinstance(event, (list, tuple)):\n",
    "        count = len(event)\n",
    "    elif isinstance(event_size, int):\n",
    "        count = event_size\n",
    "    else:\n",
    "        count = 1\n",
    "    return count / sample_size\n",
    "\n",
    "P = probability\n",
    "\n",
    "#Programmer\n",
    "branch1 = P(10, event_size=9) * P(7, event_size=1) \n",
    "branch2 = P(10, event_size=9) * P(7, event_size=6) \n",
    "branch3 = P(10, event_size=1) * P(9, event_size=2) \n",
    "branch4 = P(10, event_size=1) * P(9, event_size=7) \n",
    "\n",
    "print(round(sum([branch1, branch2, branch3, branch4]), 3))\n",
    "\n",
    "#Gorilla vs. Chimp\n",
    "\n",
    "branch1 = P(19, event_size=13) * P(9, event_size=2) \n",
    "branch2 = P(19, event_size=13) * P(9, event_size=7) \n",
    "branch3 = P(19, event_size=6) * P(11, event_size=1) \n",
    "branch4 = P(19, event_size=6) * P(11, event_size=10)  \n",
    "\n",
    "print(round(sum([branch1, branch2, branch3, branch4]), 3))\n"
   ]
  },
  {
   "cell_type": "code",
   "execution_count": 3,
   "metadata": {},
   "outputs": [
    {
     "name": "stdout",
     "output_type": "stream",
     "text": [
      "0.6275862068965518\n"
     ]
    }
   ],
   "source": [
    "#Bayes theorem Question\n",
    "\n",
    "def probability(sample_size, event=None, event_size=None):\n",
    "    if isinstance(event, (list, tuple)):\n",
    "        count = len(event)\n",
    "    elif isinstance(event_size, int):\n",
    "        count = event_size\n",
    "    else:\n",
    "        count = 1\n",
    "    return count / sample_size\n",
    "\n",
    "P = probability\n",
    "\n",
    "answer = ((P(9, event_size=7) * P(19, event_size=13))/\n",
    "          (P(9, event_size=7) * P(19, event_size=13) + P(11, event_size=11) * P(19, event_size=6)))\n",
    "    \n",
    "print(answer)"
   ]
  },
  {
   "cell_type": "code",
   "execution_count": null,
   "metadata": {},
   "outputs": [],
   "source": [
    "\n",
    "\n"
   ]
  }
 ],
 "metadata": {
  "kernelspec": {
   "display_name": "Python 3",
   "language": "python",
   "name": "python3"
  },
  "language_info": {
   "codemirror_mode": {
    "name": "ipython",
    "version": 3
   },
   "file_extension": ".py",
   "mimetype": "text/x-python",
   "name": "python",
   "nbconvert_exporter": "python",
   "pygments_lexer": "ipython3",
   "version": "3.7.3"
  }
 },
 "nbformat": 4,
 "nbformat_minor": 2
}
