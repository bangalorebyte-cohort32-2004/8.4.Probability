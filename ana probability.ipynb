{
 "cells": [
  {
   "cell_type": "code",
   "execution_count": 17,
   "metadata": {},
   "outputs": [
    {
     "name": "stdout",
     "output_type": "stream",
     "text": [
      "0.05\n",
      "0.5\n",
      "0.07692307692307693\n",
      "0.5\n",
      "0.2222222222222222\n",
      "0.7\n"
     ]
    }
   ],
   "source": [
    "#Question A\n",
    "\n",
    "event = [20]\n",
    "\n",
    "def probability(sample_size, event=event):\n",
    "    if isinstance(event, (list,tuple)):\n",
    "        count = len(event)\n",
    "    else:\n",
    "        count = 1\n",
    "    return count/sample_size\n",
    "p = probability \n",
    "\n",
    "#Question A\n",
    "print(p(20,20))\n",
    "#Question B\n",
    "print(p(10, [2,4,6,8,10]))\n",
    "#Question C\n",
    "print(p(52, ['AC', 'AS', 'AD', 'AH']))\n",
    "#Question E \n",
    "print(p(10, [2,4,6,8,10]))\n",
    "#Question F\n",
    "print(p(54, ['JC', 'JS', 'JD', 'JH','QC', 'QS', 'QD', 'QH', 'KC', 'KS', 'KD', 'KH']))\n",
    "# Practice Question\n",
    "print(p(10, [6, 7, 8, 9, 10]) + p(10, [2, 4, 6, 8, 10]) - p(10, [6, 8, 10]))"
   ]
  },
  {
   "cell_type": "code",
   "execution_count": 23,
   "metadata": {},
   "outputs": [
    {
     "name": "stdout",
     "output_type": "stream",
     "text": [
      "0.6923076923076923\n",
      "0.4807692307692308\n",
      "0.8461538461538461\n"
     ]
    }
   ],
   "source": [
    "#Venn Diagram Questions\n",
    "\n",
    "def probability(sample_size, event=None, event_size=None):\n",
    "    if isinstance(event, (list, tuple)):\n",
    "        count = len(event)\n",
    "    elif isinstance(event_size, int):\n",
    "        count = event_size\n",
    "    else:\n",
    "        count = 1\n",
    "    return count / sample_size\n",
    "\n",
    "p = probability\n",
    "\n",
    "#Question A\n",
    "print(p(52, event_size = 26) + p(52, event_size = 20) - p(52, event_size = 10))\n",
    "#Question B \n",
    "print(p(52, event_size = 13) + p(52, event_size = 16) - p(52, event_size = 4))\n",
    "#Question C\n",
    "print(p(52, event_size = 26) + p(52, event_size = 36) - p(52, event_size = 18))"
   ]
  },
  {
   "cell_type": "code",
   "execution_count": null,
   "metadata": {},
   "outputs": [],
   "source": [
    "#Bayes theorem Question"
   ]
  }
 ],
 "metadata": {
  "kernelspec": {
   "display_name": "Python 3",
   "language": "python",
   "name": "python3"
  },
  "language_info": {
   "codemirror_mode": {
    "name": "ipython",
    "version": 3
   },
   "file_extension": ".py",
   "mimetype": "text/x-python",
   "name": "python",
   "nbconvert_exporter": "python",
   "pygments_lexer": "ipython3",
   "version": "3.7.3"
  }
 },
 "nbformat": 4,
 "nbformat_minor": 2
}
